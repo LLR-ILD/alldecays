{
 "cells": [
  {
   "cell_type": "markdown",
   "metadata": {},
   "source": [
    "# A fit example: Higgs decays"
   ]
  },
  {
   "cell_type": "markdown",
   "metadata": {},
   "source": [
    "## Fit on the expected counts"
   ]
  },
  {
   "cell_type": "code",
   "execution_count": null,
   "metadata": {},
   "outputs": [],
   "source": [
    "import alldecays\n",
    "import matplotlib.pyplot as plt\n",
    "import numpy as np\n",
    "\n",
    "# The following import loads a typical setup procedure.\n",
    "from higgs_data_setup import combi_data_set\n",
    "\n",
    "\n",
    "def fit_step(minuit_object):\n",
    "    # minuit_object.throw_nan = True\n",
    "    minuit_object.print_level = 0\n",
    "    minuit_object.migrad(ncall=10_000)\n",
    "\n",
    "\n",
    "# fit_mode = \"Multinomial\"  # Not implemented yet.\n",
    "# fit_mode = \"Poisson\"\n",
    "fit_mode = \"BinomialLeastSquares\"\n",
    "# fit_mode = \"GaussianLeastSquares\"\n",
    "fit = alldecays.Fit(combi_data_set, fit_mode, fit_step=fit_step, has_limits=True)"
   ]
  },
  {
   "cell_type": "code",
   "execution_count": null,
   "metadata": {},
   "outputs": [],
   "source": [
    "fit.Minuit"
   ]
  },
  {
   "cell_type": "code",
   "execution_count": null,
   "metadata": {},
   "outputs": [],
   "source": [
    "fit._data_set.fit_start_brs"
   ]
  },
  {
   "cell_type": "code",
   "execution_count": null,
   "metadata": {},
   "outputs": [],
   "source": [
    "fit.fit_mode.values"
   ]
  },
  {
   "cell_type": "markdown",
   "metadata": {},
   "source": [
    "## Toy fits for uncertainty estimation"
   ]
  },
  {
   "cell_type": "code",
   "execution_count": null,
   "metadata": {},
   "outputs": [],
   "source": [
    "rng = np.random.default_rng(seed=5)\n",
    "toy_values = fit.fill_toys(10_000, store_channel_counts=True)"
   ]
  },
  {
   "cell_type": "code",
   "execution_count": null,
   "metadata": {},
   "outputs": [],
   "source": [
    "# alldecays.plotting.toy_hists(fit)"
   ]
  },
  {
   "cell_type": "markdown",
   "metadata": {},
   "source": [
    "## Create all the standard plots\n"
   ]
  },
  {
   "cell_type": "code",
   "execution_count": null,
   "metadata": {},
   "outputs": [],
   "source": [
    "! mkdir -p img"
   ]
  },
  {
   "cell_type": "code",
   "execution_count": null,
   "metadata": {},
   "outputs": [],
   "source": [
    "figs = alldecays.all_plots(fit, \"img\", experiment_tag=\"ILD_preliminary\")\n",
    "plt.close(\"all\")  # To not clutter this cell's output with all figures."
   ]
  },
  {
   "cell_type": "code",
   "execution_count": null,
   "metadata": {},
   "outputs": [],
   "source": [
    "figs"
   ]
  },
  {
   "cell_type": "code",
   "execution_count": null,
   "metadata": {},
   "outputs": [],
   "source": [
    "list(figs.values())[-1]"
   ]
  }
 ],
 "metadata": {
  "kernelspec": {
   "display_name": "Python 3.8.3 64-bit ('py3')",
   "name": "python383jvsc74a57bd0d1c090ee95cc78466e72060d9f905bf589a5d6d399fcc20a22d4fcd63d2774b2"
  },
  "language_info": {
   "codemirror_mode": {
    "name": "ipython",
    "version": 3
   },
   "file_extension": ".py",
   "mimetype": "text/x-python",
   "name": "python",
   "nbconvert_exporter": "python",
   "pygments_lexer": "ipython3",
   "version": "3.8.3-final"
  },
  "metadata": {
   "interpreter": {
    "hash": "d1c090ee95cc78466e72060d9f905bf589a5d6d399fcc20a22d4fcd63d2774b2"
   }
  }
 },
 "nbformat": 4,
 "nbformat_minor": 2
}
