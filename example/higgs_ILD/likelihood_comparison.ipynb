{
 "cells": [
  {
   "cell_type": "markdown",
   "metadata": {},
   "source": [
    "# Likelihood comparison"
   ]
  },
  {
   "cell_type": "markdown",
   "metadata": {},
   "source": [
    "## Compare the likelihood descriptions available in `alldecays`"
   ]
  },
  {
   "cell_type": "code",
   "execution_count": null,
   "metadata": {},
   "outputs": [],
   "source": [
    "import alldecays\n",
    "from alldecays.fitting.plugins import available_fit_modes\n",
    "\n",
    "# The following import loads a typical setup procedure.\n",
    "from higgs_data_setup import data_set, _brs\n",
    "\n",
    "fits = {}\n",
    "toys = {}\n",
    "for fit_mode_name in available_fit_modes:\n",
    "    # if fit_mode_name in [\"Multinomial\"]:\n",
    "    #     continue\n",
    "    for has_limits in [False, True]:\n",
    "        key_name = fit_mode_name\n",
    "        if has_limits:\n",
    "            key_name = fit_mode_name + \"_w_limits\"\n",
    "        fits[key_name] = alldecays.Fit(\n",
    "            data_set,\n",
    "            fit_mode_name,\n",
    "            has_limits=has_limits,\n",
    "            print_brs_sum_not_1=False,\n",
    "            raise_invalid_fit_exception=False,\n",
    "        )\n",
    "        print(f\"{key_name}: {fits[key_name].Minuit.fval} is the fit minimum.\")\n",
    "        toys[key_name] = fits[key_name].fill_toys(n_toys=10)\n",
    "fig_values = alldecays.plotting.compare_values(fits, shift_x=True)"
   ]
  },
  {
   "cell_type": "code",
   "execution_count": null,
   "metadata": {},
   "outputs": [],
   "source": [
    "alldecays.plotting.compare_errors_only(fits, shift_x=True)\n",
    "alldecays.plotting.compare_errors_only(fits);"
   ]
  },
  {
   "cell_type": "code",
   "execution_count": null,
   "metadata": {},
   "outputs": [],
   "source": [
    "alldecays.plotting.compare_errors_only(\n",
    "    fits, shift_x=True, as_relative_coupling_error=False\n",
    ");"
   ]
  },
  {
   "cell_type": "code",
   "execution_count": null,
   "metadata": {},
   "outputs": [],
   "source": [
    "fits[\"Poisson\"].Minuit.errors"
   ]
  },
  {
   "cell_type": "markdown",
   "metadata": {},
   "source": [
    "## Scaling of the (statistical) error with luminosity"
   ]
  },
  {
   "cell_type": "code",
   "execution_count": null,
   "metadata": {},
   "outputs": [],
   "source": [
    "lumi_fits = {}\n",
    "tmp_lumi = data_set.luminosity_ifb\n",
    "for lumi in [200, 500, 1000, 2000, 5000]:\n",
    "    data_set.luminosity_ifb = lumi\n",
    "    lumi_fits[str(lumi)] = alldecays.Fit(data_set)\n",
    "data_set.luminosity_ifb = tmp_lumi\n",
    "ax = alldecays.plotting.compare_errors_only(lumi_fits)\n",
    "ax.legend().set_title(\"Integrated\\n luminosity:\");"
   ]
  },
  {
   "cell_type": "markdown",
   "metadata": {},
   "source": [
    "## Add external measurements"
   ]
  },
  {
   "cell_type": "code",
   "execution_count": null,
   "metadata": {},
   "outputs": [],
   "source": [
    "from alldecays.plotting.util import FitParameters\n",
    "from higgs_couplings_external import coupling_projections\n",
    "\n",
    "compare_fits = dict(fits)\n",
    "for k, error_dict in coupling_projections.items():\n",
    "    names = list(error_dict.keys())\n",
    "    values = [_brs[n] for n in names]\n",
    "    # coupling_projections is citing relative coupling errors.\n",
    "    # `* 2` to move to BRs. `* br` to move to total errors.\n",
    "    errors = [error_dict[n] * 2 * _brs[n] for n in names]\n",
    "    compare_fits[k] = FitParameters(\n",
    "        names=names,\n",
    "        values=values,\n",
    "        errors=errors,\n",
    "        covariance=None,\n",
    "        starting_values=None,\n",
    "    )\n",
    "fig_ext = alldecays.plotting.compare_errors_only(compare_fits)"
   ]
  },
  {
   "cell_type": "code",
   "execution_count": null,
   "metadata": {},
   "outputs": [],
   "source": []
  }
 ],
 "metadata": {
  "kernelspec": {
   "display_name": "Python 3.8.3 64-bit ('py3')",
   "name": "python383jvsc74a57bd0d1c090ee95cc78466e72060d9f905bf589a5d6d399fcc20a22d4fcd63d2774b2"
  },
  "language_info": {
   "codemirror_mode": {
    "name": "ipython",
    "version": 3
   },
   "file_extension": ".py",
   "mimetype": "text/x-python",
   "name": "python",
   "nbconvert_exporter": "python",
   "pygments_lexer": "ipython3",
   "version": "3.8.3-final"
  }
 },
 "nbformat": 4,
 "nbformat_minor": 2
}
