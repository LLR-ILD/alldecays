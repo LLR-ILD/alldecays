{
 "cells": [
  {
   "cell_type": "markdown",
   "metadata": {},
   "source": [
    "# Toy study extended"
   ]
  },
  {
   "cell_type": "code",
   "execution_count": null,
   "metadata": {},
   "outputs": [],
   "source": [
    "import alldecays\n",
    "import matplotlib.pyplot as plt\n",
    "import numpy as np\n",
    "\n",
    "# The following import loads a typical setup procedure.\n",
    "from higgs_data_setup import combi_data_set, _brs\n",
    "\n",
    "\n",
    "def get_bins(data):\n",
    "    return np.arange(data.min(), data.max() + 1) - 0.5\n",
    "\n",
    "\n",
    "def fit_step(minuit_object):\n",
    "    # minuit_object.throw_nan = True\n",
    "    minuit_object.print_level = 0\n",
    "    minuit_object.migrad(ncall=10_000)\n",
    "\n",
    "\n",
    "fit_mode = \"BinomialLeastSquares\"\n",
    "fit = alldecays.Fit(combi_data_set, fit_mode, fit_step=fit_step, has_limits=True)"
   ]
  },
  {
   "cell_type": "code",
   "execution_count": null,
   "metadata": {},
   "outputs": [],
   "source": [
    "rng = np.random.default_rng(seed=5)\n",
    "toy_values = fit.fill_toys(10_000, store_channel_counts=True)\n",
    "alldecays.plotting.toy_hists(fit)"
   ]
  },
  {
   "cell_type": "code",
   "execution_count": null,
   "metadata": {},
   "outputs": [],
   "source": [
    "alldecays.plotting.toy_diagnostics_plots(fit)"
   ]
  },
  {
   "cell_type": "markdown",
   "metadata": {},
   "source": [
    "## Some non-standard graphs"
   ]
  },
  {
   "cell_type": "code",
   "execution_count": null,
   "metadata": {},
   "outputs": [],
   "source": [
    "def get_errors(error_definitions):\n",
    "    errors = []\n",
    "    for errordef in error_definitions:\n",
    "\n",
    "        def fit_step(minuit_object):\n",
    "            minuit_object.errordef = errordef\n",
    "            minuit_object.throw_nan = True\n",
    "            minuit_object.print_level = 0\n",
    "            minuit_object.migrad(ncall=10_000)\n",
    "\n",
    "        fit_tmp = alldecays.Fit(\n",
    "            combi_data_set,\n",
    "            fit_mode,\n",
    "            fit_step=fit_step,\n",
    "            has_limits=True,\n",
    "            print_brs_sum_not_1=False,\n",
    "        )\n",
    "        errors.append(fit_tmp.fit_mode.errors)\n",
    "    errors = np.concatenate(errors).reshape(-1, len(_brs))\n",
    "    return errors\n",
    "\n",
    "\n",
    "error_definitions = [0.5, 1, 2, 4, 8]\n",
    "x = np.arange(len(error_definitions))\n",
    "errors = get_errors(error_definitions)\n",
    "toy_errors = fit.toys.physics.std(axis=0)\n",
    "fig, ax = plt.subplots(figsize=(6, 8))\n",
    "for i, br in enumerate(_brs):\n",
    "    ax.plot(x, errors[:, i], \"o--\", label=br)\n",
    "    ax.axhline(toy_errors[i], color=f\"C{i}\")\n",
    "ax.set_xticks(x)\n",
    "ax.set_xticklabels(error_definitions)\n",
    "ax.set_xlabel(\"errordef=\")\n",
    "ax.set_ylabel(\"migrad error\")\n",
    "ax.set_title(\"Minuit errors\\n(horizontal lines: standard deviation of toy fit minima)\")\n",
    "ax.legend(title=\"decay mode\");"
   ]
  },
  {
   "cell_type": "code",
   "execution_count": null,
   "metadata": {},
   "outputs": [],
   "source": [
    "ds_name = \"ds:higgs\"\n",
    "box_names = combi_data_set.get_channels()[ds_name].box_names\n",
    "toy_channel_counts = np.stack([cc[ds_name] for cc in toy_values._channel_counts]).T\n",
    "for tcc, box_name in zip(toy_channel_counts, box_names):\n",
    "    fig, ax = plt.subplots()\n",
    "    ax.set_title(box_name)\n",
    "    ax.hist(tcc, bins=get_bins(tcc))"
   ]
  },
  {
   "cell_type": "code",
   "execution_count": null,
   "metadata": {},
   "outputs": [],
   "source": [
    "diagnostics = [\"fval\", \"nfcn\"]\n",
    "# diagnostics += [\"accurate\", \"valid\"]\n",
    "fig, axs = plt.subplots(figsize=(4, 4 * len(diagnostics)), nrows=len(diagnostics))\n",
    "for diag, ax in zip(diagnostics, axs):\n",
    "    ax.set_title(diag)\n",
    "    counts = getattr(toy_values, diag)\n",
    "    if counts.dtype == bool:\n",
    "        bins = [-0.5, 0.5, 1.5]\n",
    "    else:\n",
    "        bins = get_bins(counts)\n",
    "    ax.hist(counts, bins)"
   ]
  }
 ],
 "metadata": {
  "language_info": {
   "name": "python"
  }
 },
 "nbformat": 4,
 "nbformat_minor": 2
}
