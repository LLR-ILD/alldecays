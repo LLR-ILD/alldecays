{
 "cells": [
  {
   "cell_type": "markdown",
   "metadata": {},
   "source": [
    "# Internal to physics errors\n",
    "\n",
    "Some tryouts to get a feeling of how error propagation wokrs /should work\n",
    "when switching to a description where the parameters of the fit (_internal parameters_)\n",
    "are not directly the higgs branching ratios (_physics parameters_).\n"
   ]
  },
  {
   "cell_type": "code",
   "execution_count": null,
   "metadata": {},
   "outputs": [],
   "source": [
    "import numpy as np\n",
    "\n",
    "q = np.random.random(5)\n",
    "q = np.array([2, 1, 0.5, 0, 0])\n",
    "# q = np.array([1, 1, 1]) / 3\n",
    "print(q)"
   ]
  },
  {
   "cell_type": "code",
   "execution_count": null,
   "metadata": {},
   "outputs": [],
   "source": [
    "internal_cov = np.ones(q.shape * 2)\n",
    "internal_cov = np.eye(q.shape[0])\n",
    "internal_cov[1, 0] = internal_cov[0, 1] = -1\n",
    "print(internal_cov)"
   ]
  },
  {
   "cell_type": "code",
   "execution_count": null,
   "metadata": {},
   "outputs": [],
   "source": [
    "p = q / q.sum()  # [:-1]\n",
    "# denominator_derivative = - np.repeat(q, len(q)).reshape((len(q), -1))  / q.sum() ** 2\n",
    "denominator_derivative = -np.tile(q, (len(q), 1)) / q.sum() ** 2\n",
    "nominator_derivative = np.diag(np.ones_like(q) / q.sum())  # Only fires if i == j.\n",
    "jacobian = denominator_derivative + nominator_derivative\n",
    "# jacobian = jacobian[:-1]\n",
    "print(jacobian)"
   ]
  },
  {
   "cell_type": "code",
   "execution_count": null,
   "metadata": {},
   "outputs": [],
   "source": [
    "jacobian.sum(axis=1)"
   ]
  },
  {
   "cell_type": "code",
   "execution_count": null,
   "metadata": {},
   "outputs": [],
   "source": [
    "cov = jacobian.dot(internal_cov).dot(jacobian.T)\n",
    "cov = jacobian.T.dot(internal_cov).dot(jacobian)\n",
    "print(cov)"
   ]
  },
  {
   "cell_type": "code",
   "execution_count": null,
   "metadata": {},
   "outputs": [],
   "source": [
    "corr = (cov / cov.diagonal() ** 0.5).T / cov.diagonal() ** 0.5\n",
    "print((100 * corr).astype(int))"
   ]
  },
  {
   "cell_type": "code",
   "execution_count": null,
   "metadata": {},
   "outputs": [],
   "source": [
    "corr"
   ]
  }
 ],
 "metadata": {
  "kernelspec": {
   "display_name": "Python 3.8.3  ('py3': venv)",
   "name": "python383jvsc74a57bd0d1c090ee95cc78466e72060d9f905bf589a5d6d399fcc20a22d4fcd63d2774b2"
  },
  "language_info": {
   "codemirror_mode": {
    "name": "ipython",
    "version": 3
   },
   "file_extension": ".py",
   "mimetype": "text/x-python",
   "name": "python",
   "nbconvert_exporter": "python",
   "pygments_lexer": "ipython3",
   "version": "3.8.3"
  },
  "metadata": {
   "interpreter": {
    "hash": "01e75972d21c80ecfa8def71de1a21c88953258550d0ae385d0664b34bd6d010"
   }
  }
 },
 "nbformat": 4,
 "nbformat_minor": 2
}
